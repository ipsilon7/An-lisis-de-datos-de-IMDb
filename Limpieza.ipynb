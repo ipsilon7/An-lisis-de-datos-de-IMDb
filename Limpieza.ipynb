{
  "cells": [
    {
      "cell_type": "markdown",
      "id": "ef047872-c516-465e-bd71-df45ac4e409e",
      "metadata": {
        "id": "ef047872-c516-465e-bd71-df45ac4e409e"
      },
      "source": [
        "# **<center>Fase de exploracion</center>**"
      ]
    },
    {
      "cell_type": "markdown",
      "id": "0c183b90-0387-4c5b-83c5-59430b005608",
      "metadata": {
        "id": "0c183b90-0387-4c5b-83c5-59430b005608"
      },
      "source": [
        "## **Configuracion del entorno**"
      ]
    },
    {
      "cell_type": "code",
      "execution_count": 1,
      "id": "53128b4d-60cd-4545-8807-f94f87626755",
      "metadata": {
        "id": "53128b4d-60cd-4545-8807-f94f87626755"
      },
      "outputs": [],
      "source": [
        "import pandas as pd\n",
        "import matplotlib.pyplot as plt\n",
        "import seaborn as sns\n",
        "\n",
        "# URL del archivo en GitHub\n",
        "url = 'https://raw.githubusercontent.com/ipsilon7/Analisis-de-datos-de-IMDb/refs/heads/main/Database/IMDb%20database.csv'\n",
        "\n",
        "# Cargar el archivo CSV desde GitHub\n",
        "df = pd.read_csv(url)"
      ]
    },
    {
      "cell_type": "markdown",
      "id": "e33e18e6-5cdf-4e71-a91e-28f533931377",
      "metadata": {
        "id": "e33e18e6-5cdf-4e71-a91e-28f533931377"
      },
      "source": [
        "## **Exploracion inicial del dataset**"
      ]
    },
    {
      "cell_type": "markdown",
      "id": "0e7ff7e7-ee12-48c8-8996-46a7ac3fb850",
      "metadata": {
        "id": "0e7ff7e7-ee12-48c8-8996-46a7ac3fb850"
      },
      "source": [
        "Usaremos el método «shape» para verificar el tamaño del set de datos. La salida dara como resultado la cantidad de registros y columnas (registros, columnas):"
      ]
    },
    {
      "cell_type": "code",
      "execution_count": 2,
      "id": "bd1aef9f-8a3b-47f6-8da2-c7dc506164f8",
      "metadata": {
        "colab": {
          "base_uri": "https://localhost:8080/"
        },
        "id": "bd1aef9f-8a3b-47f6-8da2-c7dc506164f8",
        "outputId": "90cbe62b-4ab8-42f9-c9a9-4dd4d1165505"
      },
      "outputs": [
        {
          "output_type": "stream",
          "name": "stdout",
          "text": [
            "(1029446, 7)\n"
          ]
        }
      ],
      "source": [
        "print(df.shape)"
      ]
    },
    {
      "cell_type": "markdown",
      "id": "7d10ef06-fb73-47a1-b803-42ac5df0a66d",
      "metadata": {
        "id": "7d10ef06-fb73-47a1-b803-42ac5df0a66d"
      },
      "source": [
        "Ahora imprimimos las 5 primeras filas, lo que nos permitirá tener una idea general de las características de esta tabla:"
      ]
    },
    {
      "cell_type": "code",
      "execution_count": 3,
      "id": "70a7e2ee-73d8-43f6-a3b9-58304c216aff",
      "metadata": {
        "colab": {
          "base_uri": "https://localhost:8080/",
          "height": 206
        },
        "id": "70a7e2ee-73d8-43f6-a3b9-58304c216aff",
        "outputId": "0894573d-ade6-4635-9911-368783e4cdd5"
      },
      "outputs": [
        {
          "output_type": "execute_result",
          "data": {
            "text/plain": [
              "          id                          title   type  \\\n",
              "0  tt0000009                     Miss Jerry  movie   \n",
              "1  tt0000147  The Corbett-Fitzsimmons Fight  movie   \n",
              "2  tt0000502                       Bohemios  movie   \n",
              "3  tt0000574    The Story of the Kelly Gang  movie   \n",
              "4  tt0000591               The Prodigal Son  movie   \n",
              "\n",
              "                         genres  averageRating  numVotes  releaseYear  \n",
              "0                       Romance            5.4     215.0       1894.0  \n",
              "1      Documentary, News, Sport            5.2     539.0       1897.0  \n",
              "2                           NaN            4.4      18.0       1905.0  \n",
              "3  Action, Adventure, Biography            6.0     939.0       1906.0  \n",
              "4                         Drama            5.7      28.0       1907.0  "
            ],
            "text/html": [
              "\n",
              "  <div id=\"df-fea0cce3-d9fe-4425-a36c-6c96daa0c242\" class=\"colab-df-container\">\n",
              "    <div>\n",
              "<style scoped>\n",
              "    .dataframe tbody tr th:only-of-type {\n",
              "        vertical-align: middle;\n",
              "    }\n",
              "\n",
              "    .dataframe tbody tr th {\n",
              "        vertical-align: top;\n",
              "    }\n",
              "\n",
              "    .dataframe thead th {\n",
              "        text-align: right;\n",
              "    }\n",
              "</style>\n",
              "<table border=\"1\" class=\"dataframe\">\n",
              "  <thead>\n",
              "    <tr style=\"text-align: right;\">\n",
              "      <th></th>\n",
              "      <th>id</th>\n",
              "      <th>title</th>\n",
              "      <th>type</th>\n",
              "      <th>genres</th>\n",
              "      <th>averageRating</th>\n",
              "      <th>numVotes</th>\n",
              "      <th>releaseYear</th>\n",
              "    </tr>\n",
              "  </thead>\n",
              "  <tbody>\n",
              "    <tr>\n",
              "      <th>0</th>\n",
              "      <td>tt0000009</td>\n",
              "      <td>Miss Jerry</td>\n",
              "      <td>movie</td>\n",
              "      <td>Romance</td>\n",
              "      <td>5.4</td>\n",
              "      <td>215.0</td>\n",
              "      <td>1894.0</td>\n",
              "    </tr>\n",
              "    <tr>\n",
              "      <th>1</th>\n",
              "      <td>tt0000147</td>\n",
              "      <td>The Corbett-Fitzsimmons Fight</td>\n",
              "      <td>movie</td>\n",
              "      <td>Documentary, News, Sport</td>\n",
              "      <td>5.2</td>\n",
              "      <td>539.0</td>\n",
              "      <td>1897.0</td>\n",
              "    </tr>\n",
              "    <tr>\n",
              "      <th>2</th>\n",
              "      <td>tt0000502</td>\n",
              "      <td>Bohemios</td>\n",
              "      <td>movie</td>\n",
              "      <td>NaN</td>\n",
              "      <td>4.4</td>\n",
              "      <td>18.0</td>\n",
              "      <td>1905.0</td>\n",
              "    </tr>\n",
              "    <tr>\n",
              "      <th>3</th>\n",
              "      <td>tt0000574</td>\n",
              "      <td>The Story of the Kelly Gang</td>\n",
              "      <td>movie</td>\n",
              "      <td>Action, Adventure, Biography</td>\n",
              "      <td>6.0</td>\n",
              "      <td>939.0</td>\n",
              "      <td>1906.0</td>\n",
              "    </tr>\n",
              "    <tr>\n",
              "      <th>4</th>\n",
              "      <td>tt0000591</td>\n",
              "      <td>The Prodigal Son</td>\n",
              "      <td>movie</td>\n",
              "      <td>Drama</td>\n",
              "      <td>5.7</td>\n",
              "      <td>28.0</td>\n",
              "      <td>1907.0</td>\n",
              "    </tr>\n",
              "  </tbody>\n",
              "</table>\n",
              "</div>\n",
              "    <div class=\"colab-df-buttons\">\n",
              "\n",
              "  <div class=\"colab-df-container\">\n",
              "    <button class=\"colab-df-convert\" onclick=\"convertToInteractive('df-fea0cce3-d9fe-4425-a36c-6c96daa0c242')\"\n",
              "            title=\"Convert this dataframe to an interactive table.\"\n",
              "            style=\"display:none;\">\n",
              "\n",
              "  <svg xmlns=\"http://www.w3.org/2000/svg\" height=\"24px\" viewBox=\"0 -960 960 960\">\n",
              "    <path d=\"M120-120v-720h720v720H120Zm60-500h600v-160H180v160Zm220 220h160v-160H400v160Zm0 220h160v-160H400v160ZM180-400h160v-160H180v160Zm440 0h160v-160H620v160ZM180-180h160v-160H180v160Zm440 0h160v-160H620v160Z\"/>\n",
              "  </svg>\n",
              "    </button>\n",
              "\n",
              "  <style>\n",
              "    .colab-df-container {\n",
              "      display:flex;\n",
              "      gap: 12px;\n",
              "    }\n",
              "\n",
              "    .colab-df-convert {\n",
              "      background-color: #E8F0FE;\n",
              "      border: none;\n",
              "      border-radius: 50%;\n",
              "      cursor: pointer;\n",
              "      display: none;\n",
              "      fill: #1967D2;\n",
              "      height: 32px;\n",
              "      padding: 0 0 0 0;\n",
              "      width: 32px;\n",
              "    }\n",
              "\n",
              "    .colab-df-convert:hover {\n",
              "      background-color: #E2EBFA;\n",
              "      box-shadow: 0px 1px 2px rgba(60, 64, 67, 0.3), 0px 1px 3px 1px rgba(60, 64, 67, 0.15);\n",
              "      fill: #174EA6;\n",
              "    }\n",
              "\n",
              "    .colab-df-buttons div {\n",
              "      margin-bottom: 4px;\n",
              "    }\n",
              "\n",
              "    [theme=dark] .colab-df-convert {\n",
              "      background-color: #3B4455;\n",
              "      fill: #D2E3FC;\n",
              "    }\n",
              "\n",
              "    [theme=dark] .colab-df-convert:hover {\n",
              "      background-color: #434B5C;\n",
              "      box-shadow: 0px 1px 3px 1px rgba(0, 0, 0, 0.15);\n",
              "      filter: drop-shadow(0px 1px 2px rgba(0, 0, 0, 0.3));\n",
              "      fill: #FFFFFF;\n",
              "    }\n",
              "  </style>\n",
              "\n",
              "    <script>\n",
              "      const buttonEl =\n",
              "        document.querySelector('#df-fea0cce3-d9fe-4425-a36c-6c96daa0c242 button.colab-df-convert');\n",
              "      buttonEl.style.display =\n",
              "        google.colab.kernel.accessAllowed ? 'block' : 'none';\n",
              "\n",
              "      async function convertToInteractive(key) {\n",
              "        const element = document.querySelector('#df-fea0cce3-d9fe-4425-a36c-6c96daa0c242');\n",
              "        const dataTable =\n",
              "          await google.colab.kernel.invokeFunction('convertToInteractive',\n",
              "                                                    [key], {});\n",
              "        if (!dataTable) return;\n",
              "\n",
              "        const docLinkHtml = 'Like what you see? Visit the ' +\n",
              "          '<a target=\"_blank\" href=https://colab.research.google.com/notebooks/data_table.ipynb>data table notebook</a>'\n",
              "          + ' to learn more about interactive tables.';\n",
              "        element.innerHTML = '';\n",
              "        dataTable['output_type'] = 'display_data';\n",
              "        await google.colab.output.renderOutput(dataTable, element);\n",
              "        const docLink = document.createElement('div');\n",
              "        docLink.innerHTML = docLinkHtml;\n",
              "        element.appendChild(docLink);\n",
              "      }\n",
              "    </script>\n",
              "  </div>\n",
              "\n",
              "\n",
              "<div id=\"df-75052ac8-9e3b-450c-bdb0-c9abfe830f0d\">\n",
              "  <button class=\"colab-df-quickchart\" onclick=\"quickchart('df-75052ac8-9e3b-450c-bdb0-c9abfe830f0d')\"\n",
              "            title=\"Suggest charts\"\n",
              "            style=\"display:none;\">\n",
              "\n",
              "<svg xmlns=\"http://www.w3.org/2000/svg\" height=\"24px\"viewBox=\"0 0 24 24\"\n",
              "     width=\"24px\">\n",
              "    <g>\n",
              "        <path d=\"M19 3H5c-1.1 0-2 .9-2 2v14c0 1.1.9 2 2 2h14c1.1 0 2-.9 2-2V5c0-1.1-.9-2-2-2zM9 17H7v-7h2v7zm4 0h-2V7h2v10zm4 0h-2v-4h2v4z\"/>\n",
              "    </g>\n",
              "</svg>\n",
              "  </button>\n",
              "\n",
              "<style>\n",
              "  .colab-df-quickchart {\n",
              "      --bg-color: #E8F0FE;\n",
              "      --fill-color: #1967D2;\n",
              "      --hover-bg-color: #E2EBFA;\n",
              "      --hover-fill-color: #174EA6;\n",
              "      --disabled-fill-color: #AAA;\n",
              "      --disabled-bg-color: #DDD;\n",
              "  }\n",
              "\n",
              "  [theme=dark] .colab-df-quickchart {\n",
              "      --bg-color: #3B4455;\n",
              "      --fill-color: #D2E3FC;\n",
              "      --hover-bg-color: #434B5C;\n",
              "      --hover-fill-color: #FFFFFF;\n",
              "      --disabled-bg-color: #3B4455;\n",
              "      --disabled-fill-color: #666;\n",
              "  }\n",
              "\n",
              "  .colab-df-quickchart {\n",
              "    background-color: var(--bg-color);\n",
              "    border: none;\n",
              "    border-radius: 50%;\n",
              "    cursor: pointer;\n",
              "    display: none;\n",
              "    fill: var(--fill-color);\n",
              "    height: 32px;\n",
              "    padding: 0;\n",
              "    width: 32px;\n",
              "  }\n",
              "\n",
              "  .colab-df-quickchart:hover {\n",
              "    background-color: var(--hover-bg-color);\n",
              "    box-shadow: 0 1px 2px rgba(60, 64, 67, 0.3), 0 1px 3px 1px rgba(60, 64, 67, 0.15);\n",
              "    fill: var(--button-hover-fill-color);\n",
              "  }\n",
              "\n",
              "  .colab-df-quickchart-complete:disabled,\n",
              "  .colab-df-quickchart-complete:disabled:hover {\n",
              "    background-color: var(--disabled-bg-color);\n",
              "    fill: var(--disabled-fill-color);\n",
              "    box-shadow: none;\n",
              "  }\n",
              "\n",
              "  .colab-df-spinner {\n",
              "    border: 2px solid var(--fill-color);\n",
              "    border-color: transparent;\n",
              "    border-bottom-color: var(--fill-color);\n",
              "    animation:\n",
              "      spin 1s steps(1) infinite;\n",
              "  }\n",
              "\n",
              "  @keyframes spin {\n",
              "    0% {\n",
              "      border-color: transparent;\n",
              "      border-bottom-color: var(--fill-color);\n",
              "      border-left-color: var(--fill-color);\n",
              "    }\n",
              "    20% {\n",
              "      border-color: transparent;\n",
              "      border-left-color: var(--fill-color);\n",
              "      border-top-color: var(--fill-color);\n",
              "    }\n",
              "    30% {\n",
              "      border-color: transparent;\n",
              "      border-left-color: var(--fill-color);\n",
              "      border-top-color: var(--fill-color);\n",
              "      border-right-color: var(--fill-color);\n",
              "    }\n",
              "    40% {\n",
              "      border-color: transparent;\n",
              "      border-right-color: var(--fill-color);\n",
              "      border-top-color: var(--fill-color);\n",
              "    }\n",
              "    60% {\n",
              "      border-color: transparent;\n",
              "      border-right-color: var(--fill-color);\n",
              "    }\n",
              "    80% {\n",
              "      border-color: transparent;\n",
              "      border-right-color: var(--fill-color);\n",
              "      border-bottom-color: var(--fill-color);\n",
              "    }\n",
              "    90% {\n",
              "      border-color: transparent;\n",
              "      border-bottom-color: var(--fill-color);\n",
              "    }\n",
              "  }\n",
              "</style>\n",
              "\n",
              "  <script>\n",
              "    async function quickchart(key) {\n",
              "      const quickchartButtonEl =\n",
              "        document.querySelector('#' + key + ' button');\n",
              "      quickchartButtonEl.disabled = true;  // To prevent multiple clicks.\n",
              "      quickchartButtonEl.classList.add('colab-df-spinner');\n",
              "      try {\n",
              "        const charts = await google.colab.kernel.invokeFunction(\n",
              "            'suggestCharts', [key], {});\n",
              "      } catch (error) {\n",
              "        console.error('Error during call to suggestCharts:', error);\n",
              "      }\n",
              "      quickchartButtonEl.classList.remove('colab-df-spinner');\n",
              "      quickchartButtonEl.classList.add('colab-df-quickchart-complete');\n",
              "    }\n",
              "    (() => {\n",
              "      let quickchartButtonEl =\n",
              "        document.querySelector('#df-75052ac8-9e3b-450c-bdb0-c9abfe830f0d button');\n",
              "      quickchartButtonEl.style.display =\n",
              "        google.colab.kernel.accessAllowed ? 'block' : 'none';\n",
              "    })();\n",
              "  </script>\n",
              "</div>\n",
              "\n",
              "    </div>\n",
              "  </div>\n"
            ],
            "application/vnd.google.colaboratory.intrinsic+json": {
              "type": "dataframe",
              "variable_name": "df"
            }
          },
          "metadata": {},
          "execution_count": 3
        }
      ],
      "source": [
        "df.head()"
      ]
    },
    {
      "cell_type": "markdown",
      "id": "632866b3-d7be-40d1-a864-d7508b63bc8f",
      "metadata": {
        "id": "632866b3-d7be-40d1-a864-d7508b63bc8f"
      },
      "source": [
        "Ahora necesitamos entender los tipos de variables que tenemos (es decir el tipo de dato usado para almacenar la información en cada columna de nuestra tabla). Esto lo podemos verificar usando el método «info()», que ademas nos dira cuantos registros no nulos tiene cada columna:"
      ]
    },
    {
      "cell_type": "code",
      "execution_count": 4,
      "id": "61bab467-bbc6-491f-ba84-80bdea049322",
      "metadata": {
        "colab": {
          "base_uri": "https://localhost:8080/"
        },
        "id": "61bab467-bbc6-491f-ba84-80bdea049322",
        "outputId": "8d2797f9-b082-496b-d683-540519b6456d"
      },
      "outputs": [
        {
          "output_type": "stream",
          "name": "stdout",
          "text": [
            "<class 'pandas.core.frame.DataFrame'>\n",
            "RangeIndex: 1029446 entries, 0 to 1029445\n",
            "Data columns (total 7 columns):\n",
            " #   Column         Non-Null Count    Dtype  \n",
            "---  ------         --------------    -----  \n",
            " 0   id             1029446 non-null  object \n",
            " 1   title          1029446 non-null  object \n",
            " 2   type           1029446 non-null  object \n",
            " 3   genres         928808 non-null   object \n",
            " 4   averageRating  439071 non-null   float64\n",
            " 5   numVotes       439071 non-null   float64\n",
            " 6   releaseYear    900924 non-null   float64\n",
            "dtypes: float64(3), object(4)\n",
            "memory usage: 55.0+ MB\n"
          ]
        }
      ],
      "source": [
        "df.info()"
      ]
    },
    {
      "cell_type": "markdown",
      "id": "0aae2ea8-5f48-4a7f-ac22-b516d88b2340",
      "metadata": {
        "id": "0aae2ea8-5f48-4a7f-ac22-b516d88b2340"
      },
      "source": [
        "<br>\n",
        "EL metodo info() nos devolvio la siguiente informacion:<br>\n",
        "<br>\n",
        "class='pandas.core.frame.DataFrame'<br>\n",
        "RangeIndex: 1029446 entries, 0 to 1029445<br>\n",
        "Data columns (total 7 columns):<br>\n",
        "\n",
        "|#|Column|Non-Null count|Dtype|\n",
        "|-----|-----|-----|-----|\n",
        "|0|id|1029446 non-null|object|\n",
        "|1|title|         1029444 non-null|  object |\n",
        "|2|  type|           1029446 non-null|  object |\n",
        "|3|  genres|         928808 non-null|   object |\n",
        "|4|  averageRating|  439071 non-null|   float64|\n",
        "|5|  numVotes| 439071 non-null|   float64|\n",
        "|6|   releaseYear|    900924 non-null|   float64|\n",
        "\n",
        "dtypes: float64(3), object(4)\n",
        "memory usage: 55.0+ MB\n",
        "\n",
        "\n",
        "Podemos ver que las columnas \"id\" y \"type\" tienen la misma cantidad de registros que el total por lo que no hay datos faltantes. La columna \"title\" tiene solamente dos registros faltantes, que habria que inspeccionar si no se trata de algun tipo de error. Luego las columnas de \"averageRating\" y \"numVotes\" contienen la misma cantidad de datos faltantes debido a que estan correlacionadas y un dato no menor es que menos de la mitad (42,65% para ser exactos) del dataset contiene datos de puntuacion y cantidad de votos. Por ultimo, las columnas de generos y año de lanzamiento tambien tienen datos faltantes. El porcentaje de datos faltantes por columna quedaria de la siguiente manera:\n",
        "\n",
        "| Columna       | % de datos faltantes |\n",
        "|---------------|:--------------------:|\n",
        "| id            | 0%     |\n",
        "| title         |< 0,01% |\n",
        "| type          | 0%     |\n",
        "| genres        | 9,77%  |\n",
        "| averageRating | 57,34% |\n",
        "| numVotes      | 57,34% |\n",
        "| releaseYear   | 12,48% |\n",
        "\n",
        "<br>\n",
        "Ahora representaremos los datos faltantes mediante un heatmap para poder visualizar si hay alguna relacion entre ellos."
      ]
    },
    {
      "cell_type": "code",
      "source": [
        "plt.figure(figsize=(10, 6))\n",
        "sns.heatmap(df.isna(), cbar=False, cmap=\"viridis\", yticklabels=False)\n",
        "plt.title(\"Heatmap de Datos Faltantes\")\n",
        "plt.show()"
      ],
      "metadata": {
        "colab": {
          "base_uri": "https://localhost:8080/",
          "height": 545
        },
        "id": "-MlaeytCtipS",
        "outputId": "14ec0ffb-9972-4133-8349-a67a18a08d96"
      },
      "id": "-MlaeytCtipS",
      "execution_count": 5,
      "outputs": [
        {
          "output_type": "display_data",
          "data": {
            "text/plain": [
              "<Figure size 1000x600 with 1 Axes>"
            ],
            "image/png": "[encoded data removed]"
          },
          "metadata": {}
        }
      ]
    },
    {
      "cell_type": "markdown",
      "source": [
        "Haremos unas pruebas para entender las relaciones de estos datos faltantes. Como se habia dicho anteriormente averageRating y numVotes comparten datos faltantes porque estan correlacionados. Primero filtraremos registros con solo datos faltantes en releaseYear."
      ],
      "metadata": {
        "id": "PHlp4DNGu_AS"
      },
      "id": "PHlp4DNGu_AS"
    },
    {
      "cell_type": "code",
      "source": [
        "# Filtrar filas donde solo 'releaseYear' tiene datos faltantes\n",
        "filtered_df = df[df['releaseYear'].isna() & df.drop(columns=['releaseYear']).notna().all(axis=1)]\n",
        "\n",
        "print(f\"Cantidad de registros filtrados: {filtered_df.shape[0]}\")\n",
        "print(filtered_df)"
      ],
      "metadata": {
        "colab": {
          "base_uri": "https://localhost:8080/"
        },
        "id": "ESBzA627v_AS",
        "outputId": "56a42069-f663-4383-ad34-170f7e897f57"
      },
      "id": "ESBzA627v_AS",
      "execution_count": 6,
      "outputs": [
        {
          "output_type": "stream",
          "name": "stdout",
          "text": [
            "Cantidad de registros filtrados: 90\n",
            "                id                                              title  \\\n",
            "134590   tt0203086  Home-Coming in Granddaughter: The Cultural Com...   \n",
            "143229   tt0219466                                          90° South   \n",
            "172648   tt0278332                        The Adventures of Pinocchio   \n",
            "202588   tt0346172                      Zamaanat: And Justice for All   \n",
            "230072   tt0417131                                       Shubh Kaamna   \n",
            "...            ...                                                ...   \n",
            "971946   tt8325358                                          One Night   \n",
            "971955   tt8325484                                      Frankensitter   \n",
            "992999   tt9013026                               This Guest of Summer   \n",
            "1013261  tt9710724                        Bay Lawz: Stick to the Code   \n",
            "1016336  tt9823122                              Mannphodganj Ki Binny   \n",
            "\n",
            "             type                  genres  averageRating  numVotes  \\\n",
            "134590      movie             Documentary            7.4       6.0   \n",
            "143229      movie             Documentary            7.4     205.0   \n",
            "172648      movie      Animation, Fantasy            6.9      26.0   \n",
            "202588      movie  Drama, Family, Mystery            2.8     194.0   \n",
            "230072      movie           Comedy, Drama            6.5      27.0   \n",
            "...           ...                     ...            ...       ...   \n",
            "971946   tvSeries                   Drama            8.8       9.0   \n",
            "971955   tvSeries                  Comedy            8.9      13.0   \n",
            "992999      movie                  Horror            8.5     179.0   \n",
            "1013261     movie                   Drama            8.5      16.0   \n",
            "1016336  tvSeries  Comedy, Drama, Romance            5.3      20.0   \n",
            "\n",
            "         releaseYear  \n",
            "134590           NaN  \n",
            "143229           NaN  \n",
            "172648           NaN  \n",
            "202588           NaN  \n",
            "230072           NaN  \n",
            "...              ...  \n",
            "971946           NaN  \n",
            "971955           NaN  \n",
            "992999           NaN  \n",
            "1013261          NaN  \n",
            "1016336          NaN  \n",
            "\n",
            "[90 rows x 7 columns]\n"
          ]
        }
      ]
    },
    {
      "cell_type": "markdown",
      "source": [
        "<br>\n",
        "Ahora filtraremos registros con solo datos faltantes en la columna generes."
      ],
      "metadata": {
        "id": "Dpyiy2sZyaAS"
      },
      "id": "Dpyiy2sZyaAS"
    },
    {
      "cell_type": "code",
      "source": [
        "# Filtrar filas donde solo 'genres' tiene datos faltantes\n",
        "filtered_df = df[df['genres'].isna() & df.drop(columns=['genres']).notna().all(axis=1)]\n",
        "\n",
        "print(f\"Cantidad de registros filtrados: {filtered_df.shape[0]}\")\n",
        "print(filtered_df)"
      ],
      "metadata": {
        "colab": {
          "base_uri": "https://localhost:8080/"
        },
        "id": "GOQbjfYBylgR",
        "outputId": "11ea355d-99ed-44e8-98c8-2e694eadf7a0"
      },
      "id": "GOQbjfYBylgR",
      "execution_count": 7,
      "outputs": [
        {
          "output_type": "stream",
          "name": "stdout",
          "text": [
            "Cantidad de registros filtrados: 14724\n",
            "                 id                                              title  \\\n",
            "2         tt0000502                                           Bohemios   \n",
            "14        tt0000862                                         Faldgruben   \n",
            "25        tt0001010  Protección de un convoy de víveres en el puent...   \n",
            "27        tt0001038                                 Sherlock Holmes VI   \n",
            "36        tt0001101                         Abraham Lincoln's Clemency   \n",
            "...             ...                                                ...   \n",
            "1022743  tt33704378                           Fugitives Caught on Tape   \n",
            "1022799  tt33710320                                       USAshveloebi   \n",
            "1026159  tt34278653                          She Taught Me Serendipity   \n",
            "1027432  tt34387986                                            Nilgoon   \n",
            "1027488  tt34388850                                           Vanchana   \n",
            "\n",
            "             type genres  averageRating  numVotes  releaseYear  \n",
            "2           movie    NaN            4.4      18.0       1905.0  \n",
            "14          movie    NaN            4.4      18.0       1909.0  \n",
            "25          movie    NaN            4.2      16.0       1909.0  \n",
            "27          movie    NaN            3.5      23.0       1910.0  \n",
            "36          movie    NaN            5.1      41.0       1910.0  \n",
            "...           ...    ...            ...       ...          ...  \n",
            "1022743  tvSeries    NaN            6.7       9.0       2024.0  \n",
            "1022799  tvSeries    NaN            8.8      27.0       2024.0  \n",
            "1026159     movie    NaN            5.9      12.0       2024.0  \n",
            "1027432     movie    NaN            2.6       9.0       2019.0  \n",
            "1027488     movie    NaN            8.0    1066.0       2024.0  \n",
            "\n",
            "[14724 rows x 7 columns]\n"
          ]
        }
      ]
    },
    {
      "cell_type": "markdown",
      "source": [
        "<br>\n",
        "Por ultimo filtraremos registros donde solo falten los datos de las columnas averageRating y numVotes.\n",
        "<br>"
      ],
      "metadata": {
        "id": "0CtMTvTk7mqM"
      },
      "id": "0CtMTvTk7mqM"
    },
    {
      "cell_type": "code",
      "source": [
        "# Filtrar filas donde solo 'averageRating' y 'numVotes' tienen datos faltantes\n",
        "filtered_df = df[\n",
        "    df[['averageRating', 'numVotes']].isna().all(axis=1)  # Ambas columnas tienen datos faltantes\n",
        "    & df.drop(columns=['averageRating', 'numVotes']).notna().all(axis=1)  # Las demás columnas no tienen datos faltantes\n",
        "]\n",
        "\n",
        "print(f\"Cantidad de registros filtrados: {filtered_df.shape[0]}\")\n",
        "print(filtered_df)"
      ],
      "metadata": {
        "colab": {
          "base_uri": "https://localhost:8080/"
        },
        "id": "YNOC2zgN7zjE",
        "outputId": "c12bfb24-3931-45cb-fe34-031a70472f3c"
      },
      "id": "YNOC2zgN7zjE",
      "execution_count": 8,
      "outputs": [
        {
          "output_type": "stream",
          "name": "stdout",
          "text": [
            "Cantidad de registros filtrados: 384938\n",
            "                 id                              title          type  \\\n",
            "31        tt0001059           O Terremoto de Benavente         movie   \n",
            "45        tt0001147  O Centenário da Guerra Peninsular         movie   \n",
            "47        tt0001163                   Corrida da Rampa         movie   \n",
            "58        tt0001341         Jarní sen starého mládence         movie   \n",
            "60        tt0001359                A Pesca do Bacalhau         movie   \n",
            "...             ...                                ...           ...   \n",
            "1029435  tt34604833            Halloween Mind Massacre         movie   \n",
            "1029436  tt34605760                         Souled Out  tvMiniSeries   \n",
            "1029438  tt34605792                        Nie przegap      tvSeries   \n",
            "1029440  tt34605805                    39 Derecede Ask         movie   \n",
            "1029444  tt34606065                         Victor 303         movie   \n",
            "\n",
            "                  genres  averageRating  numVotes  releaseYear  \n",
            "31           Documentary            NaN       NaN       1909.0  \n",
            "45           Documentary            NaN       NaN       1910.0  \n",
            "47           Documentary            NaN       NaN       1910.0  \n",
            "58                Comedy            NaN       NaN       1913.0  \n",
            "60           Documentary            NaN       NaN       1910.0  \n",
            "...                  ...            ...       ...          ...  \n",
            "1029435           Horror            NaN       NaN       2018.0  \n",
            "1029436         Thriller            NaN       NaN       2024.0  \n",
            "1029438            Short            NaN       NaN       2014.0  \n",
            "1029440  Comedy, Romance            NaN       NaN       2024.0  \n",
            "1029444            Drama            NaN       NaN       2025.0  \n",
            "\n",
            "[384938 rows x 7 columns]\n"
          ]
        }
      ]
    },
    {
      "cell_type": "markdown",
      "id": "ddc83bf7-1fe4-4e72-bf96-d8a410f73b8b",
      "metadata": {
        "id": "ddc83bf7-1fe4-4e72-bf96-d8a410f73b8b"
      },
      "source": [
        "## **Fase de limpieza**"
      ]
    },
    {
      "cell_type": "markdown",
      "id": "02c95fa3-3443-4a40-bbc5-e021c0f1a522",
      "metadata": {
        "id": "02c95fa3-3443-4a40-bbc5-e021c0f1a522"
      },
      "source": [
        "### **Datos faltantes**"
      ]
    },
    {
      "cell_type": "markdown",
      "id": "b64a3feb-8f9b-4c5d-82c9-012901747924",
      "metadata": {
        "jp-MarkdownHeadingCollapsed": true,
        "id": "b64a3feb-8f9b-4c5d-82c9-012901747924"
      },
      "source": [
        "#### **Columna title**"
      ]
    },
    {
      "cell_type": "markdown",
      "id": "9be7e041-f1c4-4b29-b62f-397d5eadb382",
      "metadata": {
        "id": "9be7e041-f1c4-4b29-b62f-397d5eadb382"
      },
      "source": [
        "Iniciaremos por averiguar cuales son esos dos registros que no tienen titulo:"
      ]
    },
    {
      "cell_type": "code",
      "execution_count": 9,
      "id": "fe8ebe22-e1a0-4da5-9318-bdb746793d77",
      "metadata": {
        "colab": {
          "base_uri": "https://localhost:8080/"
        },
        "id": "fe8ebe22-e1a0-4da5-9318-bdb746793d77",
        "outputId": "422999fb-599e-4cd8-a6aa-3dd4f75c89ee"
      },
      "outputs": [
        {
          "output_type": "stream",
          "name": "stdout",
          "text": [
            "Empty DataFrame\n",
            "Columns: [id, title, type, genres, averageRating, numVotes, releaseYear]\n",
            "Index: []\n"
          ]
        }
      ],
      "source": [
        "# Filtrar filas donde 'title' es NaN o está vacío\n",
        "missing_title_rows = df[df['title'].isna()]\n",
        "\n",
        "# Mostrar las filas con datos faltantes en 'title'\n",
        "print(missing_title_rows)"
      ]
    },
    {
      "cell_type": "markdown",
      "id": "8ff965f0-a62c-4a05-98e6-3cc2007be48b",
      "metadata": {
        "id": "8ff965f0-a62c-4a05-98e6-3cc2007be48b"
      },
      "source": [
        "<br>\n",
        "Los dos registros en los que falta el titulo son los siguientes:\n",
        "\n",
        "|id|title|type|genres|averageRating|numVotes|releaseYear|\n",
        "|---------------|----|----|----|----|----|----|\n",
        "|tt17042812|NaN|movie|Thriller|NaN|NaN|2010|\n",
        "|tt5774076|NaN|movie|Action, Drama, Mystery|7.2|7.0|2015.0|\n",
        "\n",
        "Ambos registros que no contenia titulo era debido a que el titulo de las peliuclas era \"None\" y era interpretado por Python como un dato nulo, por lo que se procedio a modificarlo quedando de la siguiente manera:\n",
        "\n",
        "|id|title|type|genres|averageRating|numVotes|releaseYear|\n",
        "|---------------|----|----|----|----|----|----|\n",
        "|tt17042812|\"No-ne\"|movie|Thriller|NaN|NaN|2010|\n",
        "|tt5774076|\"No-ne\"|movie|Action, Drama, Mystery|7.2|7.0|2015.0|"
      ]
    },
    {
      "cell_type": "markdown",
      "source": [
        "#### **Columna year**"
      ],
      "metadata": {
        "id": "I3ABCMzd9KmU"
      },
      "id": "I3ABCMzd9KmU"
    },
    {
      "cell_type": "markdown",
      "source": [
        "Como pudimos ver en la exploracion inicial, el 57,34% de los registros no tienen puntacion por lo que trataremos de optimizar estos datos faltantes. La base de datos que estamos trabajando contiene datos de producciones con puntuaciones que realiza el publico. Teniendo en cuenta esto y sabiendo que nos encontramos en el año 2024, todas aquellas producciones despues de esta fecha es probable que no tengan dato de puntuacion porque todavia no han sido estrenadas. Filtraremos las producciones con año de lanzamiento 2025 y luego filtraremos aquellas que no contenga datos de puntuacion para poder comparar entre si. Los registros que no tengan datos de puntuacion seran eliminados."
      ],
      "metadata": {
        "id": "vsw9fSe_9VIT"
      },
      "id": "vsw9fSe_9VIT"
    },
    {
      "cell_type": "code",
      "source": [
        "# Filtrar registros donde 'releaseYear' sea 2025\n",
        "filtered_df = df[df['releaseYear'] == 2025]\n",
        "\n",
        "print(f\"Cantidad de registros de 2025: {filtered_df.shape[0]}\")\n",
        "\n",
        "# Filtrar registros donde 'releaseYear' sea 2025 y 'averageRating' tenga valores faltantes\n",
        "filtered_df = df[(df['releaseYear'] == 2025) & (df['averageRating'].isna())]\n",
        "\n",
        "print(f\"Cantidad de registros de 2025 sin puntuacion: {filtered_df.shape[0]}\")\n",
        "\n",
        "# Filtrar registros donde 'releaseYear' sea 2025 y 'averageRating' tenga datos\n",
        "filtered_df = df[(df['releaseYear'] == 2025) & (df['averageRating'].notna())]\n",
        "\n",
        "print(f\"Cantidad de registros de 2025 con puntuacion: {filtered_df.shape[0]}\")\n",
        "print(filtered_df)"
      ],
      "metadata": {
        "colab": {
          "base_uri": "https://localhost:8080/"
        },
        "id": "BFb5Gt_3-5pW",
        "outputId": "10983061-8397-4e48-d105-982820eb1551"
      },
      "id": "BFb5Gt_3-5pW",
      "execution_count": 12,
      "outputs": [
        {
          "output_type": "stream",
          "name": "stdout",
          "text": [
            "Cantidad de registros de 2025: 2439\n",
            "Cantidad de registros de 2025 sin puntuacion: 2424\n",
            "Cantidad de registros de 2025 con puntuacion: 15\n",
            "                id                                   title          type  \\\n",
            "396467  tt13334970          Ghost Story - An Abstract Film         movie   \n",
            "412842  tt13794972                                Dr. Gift         movie   \n",
            "492535  tt16275832                         Lost Recipes S1      tvSeries   \n",
            "496802  tt16450020                         Operation Dagon         movie   \n",
            "503521   tt1692249                            A Savior Red         movie   \n",
            "516466   tt1784356                     Bayen Haath Ka Khel         movie   \n",
            "550116  tt20202896               Sacred Grounds: Forbidden         movie   \n",
            "579176  tt21818782                                  Tehran         movie   \n",
            "633326   tt2633610                          Occupy Cannes!         movie   \n",
            "634763  tt26439870                  Sardi Ki Phusphusaahat         movie   \n",
            "757430  tt32832561  In Cold Water: The Shelter Bay Mystery  tvMiniSeries   \n",
            "902973   tt6353186                               Scar Lake         movie   \n",
            "947115   tt7584540                              The Format         movie   \n",
            "962148   tt8008948               Den of Thieves 2: Pantera         movie   \n",
            "964593   tt8084498                               Sebastian         movie   \n",
            "\n",
            "                              genres  averageRating  numVotes  releaseYear  \n",
            "396467                        Horror            7.9      14.0       2025.0  \n",
            "412842       Comedy, Horror, Mystery            7.1     213.0       2025.0  \n",
            "492535                   Documentary            7.7       9.0       2025.0  \n",
            "496802    Action, Adventure, Fantasy            6.6      29.0       2025.0  \n",
            "503521                      Thriller            7.6      40.0       2025.0  \n",
            "516466    Adventure, Comedy, Musical            7.1      17.0       2025.0  \n",
            "550116  Adventure, Thriller, Western            8.0       8.0       2025.0  \n",
            "579176              Action, Thriller            8.3      33.0       2025.0  \n",
            "633326                   Documentary            7.9     123.0       2025.0  \n",
            "634763                           NaN            8.9      11.0       2025.0  \n",
            "757430            Crime, Documentary            6.4      10.0       2025.0  \n",
            "902973                      Thriller            4.9      22.0       2025.0  \n",
            "947115                Comedy, Horror            8.7      55.0       2025.0  \n",
            "962148          Action, Crime, Drama           10.0       8.0       2025.0  \n",
            "964593                        Horror            7.7      43.0       2025.0  \n"
          ]
        }
      ]
    },
    {
      "cell_type": "markdown",
      "id": "d6be069c-a352-4b4f-a61a-99ce38e3be6a",
      "metadata": {
        "id": "d6be069c-a352-4b4f-a61a-99ce38e3be6a"
      },
      "source": [
        "### **Columnas genres + averageRating + releaseYear**"
      ]
    },
    {
      "cell_type": "markdown",
      "id": "b2ce5483-4976-4580-bcf9-1bb1a1fd8522",
      "metadata": {
        "id": "b2ce5483-4976-4580-bcf9-1bb1a1fd8522"
      },
      "source": [
        "Si hay registros que tienen datos faltas en estas 3 columnas, procederemos a eliminarlos porque son demasiados datos que faltan, por lo que no sirven para el analisis que queremos realizar. Primero filtraremos para ver cuantos registros son:"
      ]
    },
    {
      "cell_type": "code",
      "execution_count": null,
      "id": "37d60b88-e699-4669-b880-4c90bc3ac034",
      "metadata": {
        "colab": {
          "base_uri": "https://localhost:8080/"
        },
        "id": "37d60b88-e699-4669-b880-4c90bc3ac034",
        "outputId": "05b6194f-d48b-4aaa-fa34-c411a49b4451"
      },
      "outputs": [
        {
          "output_type": "stream",
          "name": "stdout",
          "text": [
            "Cantidad total de filas con datos faltantes en 'genres', 'averageRating' y 'releaseYear' al mismo tiempo: 8889\n",
            "Registros con datos faltantes:\n",
            "                  id                                           title      type  \\\n",
            "78184     tt0103493  Millennium: Tribal Wisdom and the Modern World  tvSeries   \n",
            "89821     tt0120922                                 Artes e Ofícios  tvSeries   \n",
            "89977     tt0121158                                        Complica     movie   \n",
            "89981     tt0121172                                     Cuo zai cuo     movie   \n",
            "89982     tt0121173                           The Curly-Headed Dude     movie   \n",
            "...             ...                                             ...       ...   \n",
            "1029318  tt34587446                                    Jävla Karlar  tvSeries   \n",
            "1029323  tt34587487     Untitled Vicky Kaushal/Dinesh Vijan Project     movie   \n",
            "1029431  tt34604810                             Gods Premier League     movie   \n",
            "1029434  tt34604827                                            Fire     movie   \n",
            "1029441  tt34605925                                       Aitraaz 2     movie   \n",
            "\n",
            "        genres  averageRating  numVotes  releaseYear  \n",
            "78184      NaN            NaN       NaN          NaN  \n",
            "89821      NaN            NaN       NaN          NaN  \n",
            "89977      NaN            NaN       NaN          NaN  \n",
            "89981      NaN            NaN       NaN          NaN  \n",
            "89982      NaN            NaN       NaN          NaN  \n",
            "...        ...            ...       ...          ...  \n",
            "1029318    NaN            NaN       NaN          NaN  \n",
            "1029323    NaN            NaN       NaN          NaN  \n",
            "1029431    NaN            NaN       NaN          NaN  \n",
            "1029434    NaN            NaN       NaN          NaN  \n",
            "1029441    NaN            NaN       NaN          NaN  \n",
            "\n",
            "[8889 rows x 7 columns]\n"
          ]
        }
      ],
      "source": [
        "# Filtrar filas donde las 3 columnas tienen datos faltantes al mismo tiempo\n",
        "missing_data_rows = df[df[['genres', 'averageRating', 'releaseYear']].isna().all(axis=1)]\n",
        "\n",
        "# Contar el número total de filas con datos faltantes en estas columnas\n",
        "missing_data_count = missing_data_rows.shape[0]\n",
        "\n",
        "print(f\"Cantidad total de filas con datos faltantes en 'genres', 'averageRating' y 'releaseYear' al mismo tiempo: {missing_data_count}\")\n",
        "print(\"Registros con datos faltantes:\\n\", missing_data_rows)"
      ]
    },
    {
      "cell_type": "markdown",
      "id": "5855844f-4243-4972-8672-fd620ae2cf11",
      "metadata": {
        "id": "5855844f-4243-4972-8672-fd620ae2cf11"
      },
      "source": [
        "<br>\n",
        "Nos da como resultados un total de 8889 registros (el 0,86% del total de registros). Se realizo una investigacion de estas producciones en la web de IMDb y algunas de ellas se trataban de producciones que todavia se encontraban en etapa de produccion o preproduccion, es decir que todavia no se habian estrenado. Eliminaremos estos registros de la siguiente manera:"
      ]
    },
    {
      "cell_type": "code",
      "execution_count": null,
      "id": "1959d99c-25fd-4b40-ba5f-5878440df9eb",
      "metadata": {
        "id": "1959d99c-25fd-4b40-ba5f-5878440df9eb"
      },
      "outputs": [],
      "source": [
        "# Eliminar estas filas del DataFrame original\n",
        "df = df.drop(missing_data_rows.index)"
      ]
    },
    {
      "cell_type": "markdown",
      "id": "a861a29e-c364-4a01-ac9c-c65ee6b4a741",
      "metadata": {
        "jp-MarkdownHeadingCollapsed": true,
        "id": "a861a29e-c364-4a01-ac9c-c65ee6b4a741"
      },
      "source": [
        "### **Datos repetidos**"
      ]
    },
    {
      "cell_type": "code",
      "execution_count": null,
      "id": "9a27ca01-16b0-4c9d-82b7-b32545a52edf",
      "metadata": {
        "colab": {
          "base_uri": "https://localhost:8080/"
        },
        "id": "9a27ca01-16b0-4c9d-82b7-b32545a52edf",
        "outputId": "80eece9c-693a-4a86-e8a8-45be64fccf89"
      },
      "outputs": [
        {
          "output_type": "stream",
          "name": "stdout",
          "text": [
            "No se encontraron registros duplicados en la columna 'id'.\n"
          ]
        }
      ],
      "source": [
        "# Contar filas duplicadas en la columna 'id'\n",
        "num_duplicates = df.duplicated(subset='id').sum()\n",
        "\n",
        "if num_duplicates == 0:\n",
        "    print(\"No se encontraron registros duplicados en la columna 'id'.\")\n",
        "else:\n",
        "    print(f\"Se encontraron {num_duplicates} registros duplicados en la columna 'id'.\")\n",
        "\n",
        "    # Mostrar las filas duplicadas\n",
        "    duplicated_rows = df[df.duplicated(subset='id', keep=False)]\n",
        "    print(\"Filas duplicadas basadas en la columna 'id':\")\n",
        "    print(duplicated_rows)\n",
        "\n",
        "    # Eliminar duplicados y conservar la primera ocurrencia\n",
        "    df = df.drop_duplicates(subset='id', keep='first')"
      ]
    },
    {
      "cell_type": "markdown",
      "id": "e4f14488-2426-4cd3-94ed-27660da7ca92",
      "metadata": {
        "id": "e4f14488-2426-4cd3-94ed-27660da7ca92"
      },
      "source": [
        "<br>\n",
        "No hay registros duplicados en este dataset."
      ]
    },
    {
      "cell_type": "markdown",
      "id": "3ced8c70-ea04-461e-bfd5-0e3c4f93f17e",
      "metadata": {
        "jp-MarkdownHeadingCollapsed": true,
        "id": "3ced8c70-ea04-461e-bfd5-0e3c4f93f17e"
      },
      "source": [
        "### **Manejo de outliers en variables numericas**"
      ]
    },
    {
      "cell_type": "code",
      "execution_count": null,
      "id": "4199ee30-0f57-40f2-a6e0-1c7cdbe1a642",
      "metadata": {
        "colab": {
          "base_uri": "https://localhost:8080/",
          "height": 1000
        },
        "id": "4199ee30-0f57-40f2-a6e0-1c7cdbe1a642",
        "outputId": "0ac49b54-3685-4cdd-ef86-1b7133627b4e"
      },
      "outputs": [
        {
          "output_type": "display_data",
          "data": {
            "text/plain": [
              "<Figure size 800x1200 with 3 Axes>"
            ],
            "image/png": "[encoded data removed]"
          },
          "metadata": {}
        }
      ],
      "source": [
        "# Configurar el estilo de los gráficos\n",
        "sns.set(style=\"whitegrid\")\n",
        "\n",
        "# Crear un subplot para los 3 boxplots (en vertical)\n",
        "fig, axes = plt.subplots(3, 1, figsize=(8, 12))\n",
        "\n",
        "# Boxplot para 'averageRating' (horizontal)\n",
        "sns.boxplot(x=df['averageRating'], ax=axes[0], color='skyblue')\n",
        "axes[0].set_title('Boxplot de averageRating')\n",
        "axes[0].set_xlabel('averageRating')\n",
        "\n",
        "# Boxplot para 'numVotes' (horizontal)\n",
        "sns.boxplot(x=df['numVotes'], ax=axes[1], color='lightgreen')\n",
        "axes[1].set_title('Boxplot de numVotes')\n",
        "axes[1].set_xlabel('numVotes')\n",
        "\n",
        "# Boxplot para 'releaseYear' (horizontal)\n",
        "sns.boxplot(x=df['releaseYear'], ax=axes[2], color='lightcoral')\n",
        "axes[2].set_title('Boxplot de releaseYear')\n",
        "axes[2].set_xlabel('releaseYear')\n",
        "\n",
        "# Ajustar los espacios entre los subplots\n",
        "plt.tight_layout()\n",
        "\n",
        "# Mostrar los gráficos\n",
        "plt.show()"
      ]
    },
    {
      "cell_type": "markdown",
      "id": "a93ed3c2-e9d7-49b6-84a4-5d08bfecc5fb",
      "metadata": {
        "id": "a93ed3c2-e9d7-49b6-84a4-5d08bfecc5fb"
      },
      "source": [
        "<br>\n",
        "Teniendo en cuenta el tipo de variables numericas y de analisis que queremos realizar, no considero que los valores por fuera del rango de los bigotes del boxplot puedan ser tomados como outliers, por lo que los datos se conservaran."
      ]
    },
    {
      "cell_type": "markdown",
      "id": "7e7fa44f-d940-4946-8a33-92b2c95c991f",
      "metadata": {
        "id": "7e7fa44f-d940-4946-8a33-92b2c95c991f"
      },
      "source": [
        "### **Renombrando columnas de camelcase a snakecase**"
      ]
    },
    {
      "cell_type": "markdown",
      "id": "7233d5e5-7bc0-4667-935c-5f789ac22a2e",
      "metadata": {
        "id": "7233d5e5-7bc0-4667-935c-5f789ac22a2e"
      },
      "source": [
        "<br>\n",
        "Se renombraran algunos de los nomnbres de las columnas para que se adecuen al estilo snakecase porque es claro, estándar y ampliamente utilizado en SQL."
      ]
    },
    {
      "cell_type": "code",
      "execution_count": null,
      "id": "8bb847b0-0bc7-4d4e-bde5-b4c363850564",
      "metadata": {
        "id": "8bb847b0-0bc7-4d4e-bde5-b4c363850564"
      },
      "outputs": [],
      "source": [
        "# Renombrar columnas específicas\n",
        "df = df.rename(columns={\n",
        "    'averageRating': 'average_rating',\n",
        "    'numVotes': 'num_votes',\n",
        "    'releaseYear': 'release_year'\n",
        "})"
      ]
    },
    {
      "cell_type": "markdown",
      "id": "19ec8f4c-a315-4278-ac90-f4864e0a30ff",
      "metadata": {
        "id": "19ec8f4c-a315-4278-ac90-f4864e0a30ff"
      },
      "source": [
        "### **Division de la columna genero**"
      ]
    },
    {
      "cell_type": "markdown",
      "id": "34d89a7d-9845-4b01-83ff-570e317db829",
      "metadata": {
        "id": "34d89a7d-9845-4b01-83ff-570e317db829"
      },
      "source": [
        "La columna genres cuenta con hasta tres tipos de generos distintos en un mismo campo, si se lo dejara asi no podria ser utilizada para el analisis, por lo que se separa cada genero en una columna. En caso de que una produccion cuente con menos de 3 generos, los campos quedaran vacios. Por ejemplo, un registro que cuenta con 2 generos solamente quedaria de la siguiente manera:\n",
        "\n",
        "|genre1|genre2|genre3|\n",
        "|-----|-----|-----|\n",
        "|Drama|Action|None|\n",
        "\n",
        "Los campos que no contengan genero tendran valores NaN, que es el valor nulo estandar de Pandas."
      ]
    },
    {
      "cell_type": "code",
      "execution_count": null,
      "id": "9d3d300e-d631-421e-88e2-9193e6917b44",
      "metadata": {
        "scrolled": true,
        "id": "9d3d300e-d631-421e-88e2-9193e6917b44"
      },
      "outputs": [],
      "source": [
        "# Dividir la columna 'género' en varias columnas\n",
        "genres_split = df['genres'].str.split(',', expand=True)\n",
        "\n",
        "# Renombrar las columnas resultantes\n",
        "genres_split.columns = [f'genre{i+1}' for i in range(genres_split.shape[1])]\n",
        "\n",
        "# Concatenar las nuevas columnas con el dataframe original\n",
        "df = pd.concat([df, genres_split], axis=1)\n",
        "\n",
        "# Eliminar la columna 'genres' original\n",
        "df = df.drop(columns=['genres'])"
      ]
    },
    {
      "cell_type": "markdown",
      "id": "625dbab3-b83f-4db5-8f13-c9983b94242a",
      "metadata": {
        "id": "625dbab3-b83f-4db5-8f13-c9983b94242a"
      },
      "source": [
        "### **Errores tipográficos en variables categóricas**"
      ]
    },
    {
      "cell_type": "markdown",
      "source": [
        "Para hacer una revision de las variables categoricas, primero vamos a ver la cantidad de generos unicos que hay y ordenarlos alfabeticamente, de esa forma tambien descartaremos que no haya algun error tipografico en alguno de ellos."
      ],
      "metadata": {
        "id": "iqJI1dEGjqIz"
      },
      "id": "iqJI1dEGjqIz"
    },
    {
      "cell_type": "code",
      "source": [
        "# Seleccionar las columnas de géneros\n",
        "genres_columns = ['genre1', 'genre2', 'genre3']\n",
        "\n",
        "# Combinar las columnas de géneros y eliminar valores nulos\n",
        "unique_genres = pd.unique(df[genres_columns].values.ravel())\n",
        "\n",
        "# Filtrar los valores no nulos\n",
        "unique_genres = [genre for genre in unique_genres if pd.notna(genre)]\n",
        "\n",
        "# Ordenar los géneros alfabéticamente\n",
        "unique_genres = sorted(unique_genres)\n",
        "\n",
        "# Mostrar la cantidad de géneros únicos y los géneros ordenados\n",
        "print(f\"Cantidad de géneros únicos: {len(unique_genres)}\")\n",
        "print(f\"Géneros únicos (ordenados): {unique_genres}\")"
      ],
      "metadata": {
        "id": "sEE_SrHlnF3_",
        "outputId": "4fa1ed0d-2ea2-44c0-b3ff-b79403fd41e7",
        "colab": {
          "base_uri": "https://localhost:8080/"
        }
      },
      "id": "sEE_SrHlnF3_",
      "execution_count": null,
      "outputs": [
        {
          "output_type": "stream",
          "name": "stdout",
          "text": [
            "Cantidad de géneros únicos: 55\n",
            "Géneros únicos (ordenados): [' Adult', ' Adventure', ' Animation', ' Biography', ' Comedy', ' Crime', ' Documentary', ' Drama', ' Family', ' Fantasy', ' Film-Noir', ' Game-Show', ' History', ' Horror', ' Music', ' Musical', ' Mystery', ' News', ' Reality-TV', ' Romance', ' Sci-Fi', ' Short', ' Sport', ' Talk-Show', ' Thriller', ' War', ' Western', 'Action', 'Adult', 'Adventure', 'Animation', 'Biography', 'Comedy', 'Crime', 'Documentary', 'Drama', 'Family', 'Fantasy', 'Film-Noir', 'Game-Show', 'History', 'Horror', 'Music', 'Musical', 'Mystery', 'News', 'Reality-TV', 'Romance', 'Sci-Fi', 'Short', 'Sport', 'Talk-Show', 'Thriller', 'War', 'Western']\n"
          ]
        }
      ]
    },
    {
      "cell_type": "markdown",
      "source": [
        "Nos da como resultado 55 generos unicos. Revisando los resultados el error que se encontro es que hay generos repetidos debido a que uno contiene un espacio delante del genero y el otro no lo tiene, tomandolos como dos generos distintos. Primero eliminares el espacio en blanco delante de los generos, como tambien de todas las demas columnas de tipo texto y luego volveremos a ver la cantidad de generos.\n",
        "\n"
      ],
      "metadata": {
        "id": "asczFyYHpt4_"
      },
      "id": "asczFyYHpt4_"
    },
    {
      "cell_type": "code",
      "source": [
        "# Eliminar espacios en blanco solo en las columnas de tipo objeto (texto)\n",
        "df = df.apply(lambda col: col.str.strip() if col.dtype == 'object' else col)\n",
        "\n",
        "# Seleccionar las columnas de géneros\n",
        "genres_columns = ['genre1', 'genre2', 'genre3']\n",
        "\n",
        "# Combinar las columnas de géneros y eliminar valores nulos\n",
        "unique_genres = pd.unique(df[genres_columns].values.ravel())\n",
        "\n",
        "# Filtrar los valores no nulos\n",
        "unique_genres = [genre for genre in unique_genres if pd.notna(genre)]\n",
        "\n",
        "# Ordenar los géneros alfabéticamente\n",
        "unique_genres = sorted(unique_genres)\n",
        "\n",
        "# Mostrar la cantidad de géneros únicos y los géneros ordenados\n",
        "print(f\"Cantidad de géneros únicos: {len(unique_genres)}\")\n",
        "print(f\"Géneros únicos (ordenados): {unique_genres}\")"
      ],
      "metadata": {
        "id": "ZPvAmm0LqqtB",
        "outputId": "235e63bb-a327-4312-9624-51d67e2231b4",
        "colab": {
          "base_uri": "https://localhost:8080/"
        }
      },
      "id": "ZPvAmm0LqqtB",
      "execution_count": null,
      "outputs": [
        {
          "output_type": "stream",
          "name": "stdout",
          "text": [
            "Cantidad de géneros únicos: 28\n",
            "Géneros únicos (ordenados): ['Action', 'Adult', 'Adventure', 'Animation', 'Biography', 'Comedy', 'Crime', 'Documentary', 'Drama', 'Family', 'Fantasy', 'Film-Noir', 'Game-Show', 'History', 'Horror', 'Music', 'Musical', 'Mystery', 'News', 'Reality-TV', 'Romance', 'Sci-Fi', 'Short', 'Sport', 'Talk-Show', 'Thriller', 'War', 'Western']\n"
          ]
        }
      ]
    },
    {
      "cell_type": "markdown",
      "source": [
        "Podemos ver que se redujo la cantidad de generos a practicamente la mitad, dandonos un total de 28 generos."
      ],
      "metadata": {
        "id": "UhJ0Hx14tYjc"
      },
      "id": "UhJ0Hx14tYjc"
    },
    {
      "cell_type": "markdown",
      "id": "fe25fc25-da16-4d41-9732-68acecef1a5d",
      "metadata": {
        "id": "fe25fc25-da16-4d41-9732-68acecef1a5d"
      },
      "source": [
        "### **Transformacion de columnas num_votes y year a tipo entero**"
      ]
    },
    {
      "cell_type": "markdown",
      "id": "d4c97f66-617a-4dae-85af-a88e75980edd",
      "metadata": {
        "id": "d4c97f66-617a-4dae-85af-a88e75980edd"
      },
      "source": [
        "Cuando Pandas hizo la transformacion del archivo csv a dataframe, las columnas num_votes y year contenian campos vacios por lo que Pandas los tomo como valores NaN que son de tipo flotante (float). Si una columna contiene números enteros y al menos un valor faltante, Pandas convertirá toda la columna al tipo float64, ya que int no puede representar valores faltantes. Por lo que volveremos a convertir en entero estas columnas para que el tipo de dato coincida con la base de datos que tendremos creada en SQL."
      ]
    },
    {
      "cell_type": "code",
      "execution_count": null,
      "id": "f30e2f17-4944-47e9-8e16-96b17114c061",
      "metadata": {
        "id": "f30e2f17-4944-47e9-8e16-96b17114c061"
      },
      "outputs": [],
      "source": [
        "# Mantener las columnas con números enteros como enteros (excepto la columna average_rating que es flotante)\n",
        "for column in df.select_dtypes(include=['float64']).columns:\n",
        "    if column != \"average_rating\":\n",
        "        df[column] = df[column].fillna(0).astype('int')"
      ]
    }
  ],
  "metadata": {
    "kernelspec": {
      "display_name": "Python 3 (ipykernel)",
      "language": "python",
      "name": "python3"
    },
    "language_info": {
      "codemirror_mode": {
        "name": "ipython",
        "version": 3
      },
      "file_extension": ".py",
      "mimetype": "text/x-python",
      "name": "python",
      "nbconvert_exporter": "python",
      "pygments_lexer": "ipython3",
      "version": "3.12.7"
    },
    "colab": {
      "provenance": []
    }
  },
  "nbformat": 4,
  "nbformat_minor": 5
}