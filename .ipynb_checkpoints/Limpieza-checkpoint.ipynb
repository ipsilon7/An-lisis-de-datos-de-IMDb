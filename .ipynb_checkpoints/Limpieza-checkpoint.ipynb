{
 "cells": [
  {
   "cell_type": "markdown",
   "id": "ef047872-c516-465e-bd71-df45ac4e409e",
   "metadata": {},
   "source": [
    "# **<center>Limpieza de los datos</center>**"
   ]
  },
  {
   "cell_type": "markdown",
   "id": "0c183b90-0387-4c5b-83c5-59430b005608",
   "metadata": {},
   "source": [
    "## **Configuracion del entorno**"
   ]
  },
  {
   "cell_type": "code",
   "execution_count": 3,
   "id": "53128b4d-60cd-4545-8807-f94f87626755",
   "metadata": {},
   "outputs": [],
   "source": [
    "import pandas as pd\n",
    "import matplotlib.pyplot as plt\n",
    "import seaborn as sns\n",
    "\n",
    "# Cargar el archivo CSV\n",
    "df = pd.read_csv('./Database/IMDb database.csv')"
   ]
  },
  {
   "cell_type": "markdown",
   "id": "e33e18e6-5cdf-4e71-a91e-28f533931377",
   "metadata": {},
   "source": [
    "## **Exploracion inicial del dataset**"
   ]
  },
  {
   "cell_type": "markdown",
   "id": "0e7ff7e7-ee12-48c8-8996-46a7ac3fb850",
   "metadata": {},
   "source": [
    "Usaremos el método «shape» para verificar el tamaño del set de datos. La salida dara como resultado la cantidad de registros y columnas (registros, columnas):"
   ]
  },
  {
   "cell_type": "code",
   "execution_count": 6,
   "id": "bd1aef9f-8a3b-47f6-8da2-c7dc506164f8",
   "metadata": {},
   "outputs": [
    {
     "name": "stdout",
     "output_type": "stream",
     "text": [
      "(1029446, 7)\n"
     ]
    }
   ],
   "source": [
    "print(df.shape)"
   ]
  },
  {
   "cell_type": "markdown",
   "id": "7d10ef06-fb73-47a1-b803-42ac5df0a66d",
   "metadata": {},
   "source": [
    "Ahora imprimimos las 5 primeras filas, lo que nos permitirá tener una idea general de las características de esta tabla:"
   ]
  },
  {
   "cell_type": "code",
   "execution_count": 8,
   "id": "70a7e2ee-73d8-43f6-a3b9-58304c216aff",
   "metadata": {},
   "outputs": [
    {
     "data": {
      "text/html": [
       "<div>\n",
       "<style scoped>\n",
       "    .dataframe tbody tr th:only-of-type {\n",
       "        vertical-align: middle;\n",
       "    }\n",
       "\n",
       "    .dataframe tbody tr th {\n",
       "        vertical-align: top;\n",
       "    }\n",
       "\n",
       "    .dataframe thead th {\n",
       "        text-align: right;\n",
       "    }\n",
       "</style>\n",
       "<table border=\"1\" class=\"dataframe\">\n",
       "  <thead>\n",
       "    <tr style=\"text-align: right;\">\n",
       "      <th></th>\n",
       "      <th>id</th>\n",
       "      <th>title</th>\n",
       "      <th>type</th>\n",
       "      <th>genres</th>\n",
       "      <th>averageRating</th>\n",
       "      <th>numVotes</th>\n",
       "      <th>releaseYear</th>\n",
       "    </tr>\n",
       "  </thead>\n",
       "  <tbody>\n",
       "    <tr>\n",
       "      <th>0</th>\n",
       "      <td>tt0000009</td>\n",
       "      <td>Miss Jerry</td>\n",
       "      <td>movie</td>\n",
       "      <td>Romance</td>\n",
       "      <td>5.4</td>\n",
       "      <td>215.0</td>\n",
       "      <td>1894.0</td>\n",
       "    </tr>\n",
       "    <tr>\n",
       "      <th>1</th>\n",
       "      <td>tt0000147</td>\n",
       "      <td>The Corbett-Fitzsimmons Fight</td>\n",
       "      <td>movie</td>\n",
       "      <td>Documentary, News, Sport</td>\n",
       "      <td>5.2</td>\n",
       "      <td>539.0</td>\n",
       "      <td>1897.0</td>\n",
       "    </tr>\n",
       "    <tr>\n",
       "      <th>2</th>\n",
       "      <td>tt0000502</td>\n",
       "      <td>Bohemios</td>\n",
       "      <td>movie</td>\n",
       "      <td>NaN</td>\n",
       "      <td>4.4</td>\n",
       "      <td>18.0</td>\n",
       "      <td>1905.0</td>\n",
       "    </tr>\n",
       "    <tr>\n",
       "      <th>3</th>\n",
       "      <td>tt0000574</td>\n",
       "      <td>The Story of the Kelly Gang</td>\n",
       "      <td>movie</td>\n",
       "      <td>Action, Adventure, Biography</td>\n",
       "      <td>6.0</td>\n",
       "      <td>939.0</td>\n",
       "      <td>1906.0</td>\n",
       "    </tr>\n",
       "    <tr>\n",
       "      <th>4</th>\n",
       "      <td>tt0000591</td>\n",
       "      <td>The Prodigal Son</td>\n",
       "      <td>movie</td>\n",
       "      <td>Drama</td>\n",
       "      <td>5.7</td>\n",
       "      <td>28.0</td>\n",
       "      <td>1907.0</td>\n",
       "    </tr>\n",
       "  </tbody>\n",
       "</table>\n",
       "</div>"
      ],
      "text/plain": [
       "          id                          title   type  \\\n",
       "0  tt0000009                     Miss Jerry  movie   \n",
       "1  tt0000147  The Corbett-Fitzsimmons Fight  movie   \n",
       "2  tt0000502                       Bohemios  movie   \n",
       "3  tt0000574    The Story of the Kelly Gang  movie   \n",
       "4  tt0000591               The Prodigal Son  movie   \n",
       "\n",
       "                         genres  averageRating  numVotes  releaseYear  \n",
       "0                       Romance            5.4     215.0       1894.0  \n",
       "1      Documentary, News, Sport            5.2     539.0       1897.0  \n",
       "2                           NaN            4.4      18.0       1905.0  \n",
       "3  Action, Adventure, Biography            6.0     939.0       1906.0  \n",
       "4                         Drama            5.7      28.0       1907.0  "
      ]
     },
     "execution_count": 8,
     "metadata": {},
     "output_type": "execute_result"
    }
   ],
   "source": [
    "df.head()"
   ]
  },
  {
   "cell_type": "markdown",
   "id": "632866b3-d7be-40d1-a864-d7508b63bc8f",
   "metadata": {},
   "source": [
    "Ahora necesitamos entender los tipos de variables que tenemos (es decir el tipo de dato usado para almacenar la información en cada columna de nuestra tabla). Esto lo podemos verificar usando el método «info()», que ademas nos dira cuantos registros no nulos tiene cada columna:"
   ]
  },
  {
   "cell_type": "code",
   "execution_count": 10,
   "id": "61bab467-bbc6-491f-ba84-80bdea049322",
   "metadata": {},
   "outputs": [
    {
     "name": "stdout",
     "output_type": "stream",
     "text": [
      "<class 'pandas.core.frame.DataFrame'>\n",
      "RangeIndex: 1029446 entries, 0 to 1029445\n",
      "Data columns (total 7 columns):\n",
      " #   Column         Non-Null Count    Dtype  \n",
      "---  ------         --------------    -----  \n",
      " 0   id             1029446 non-null  object \n",
      " 1   title          1029446 non-null  object \n",
      " 2   type           1029446 non-null  object \n",
      " 3   genres         928808 non-null   object \n",
      " 4   averageRating  439071 non-null   float64\n",
      " 5   numVotes       439071 non-null   float64\n",
      " 6   releaseYear    900924 non-null   float64\n",
      "dtypes: float64(3), object(4)\n",
      "memory usage: 55.0+ MB\n"
     ]
    }
   ],
   "source": [
    "df.info()"
   ]
  },
  {
   "cell_type": "markdown",
   "id": "0aae2ea8-5f48-4a7f-ac22-b516d88b2340",
   "metadata": {},
   "source": [
    "<br>\n",
    "EL metodo info() nos devolvio la siguiente informacion:<br>\n",
    "<br>\n",
    "class='pandas.core.frame.DataFrame'<br>\n",
    "RangeIndex: 1029446 entries, 0 to 1029445<br>\n",
    "Data columns (total 7 columns):<br> \n",
    "\n",
    "|#|Column|Non-Null count|Dtype|\n",
    "|-----|-----|-----|-----|\n",
    "|0|id|1029446 non-null|object| \n",
    "|1|title|         1029444 non-null|  object |\n",
    "|2|  type|           1029446 non-null|  object |\n",
    "|3|  genres|         928808 non-null|   object |\n",
    "|4|  averageRating|  439071 non-null|   float64|\n",
    "|5|  numVotes| 439071 non-null|   float64|\n",
    "|6|   releaseYear|    900924 non-null|   float64|\n",
    "\n",
    "dtypes: float64(3), object(4)\n",
    "memory usage: 55.0+ MB\n",
    "\n",
    "\n",
    "Podemos ver que las columnas \"id\" y \"type\" tienen la misma cantidad de registros que el total por lo que no hay datos faltantes. La columna \"title\" tiene solamente dos registros faltantes, que habria que inspeccionar si no se trata de algun tipo de error. Luego las columnas de \"averageRating\" y \"numVotes\" contienen la misma cantidad de datos faltantes debido a que estan correlacionadas y un dato no menor es que menos de la mitad (42,65% para ser exactos) del dataset contiene datos de puntuacion y cantidad de votos. Por ultimo, las columnas de generos y año de lanzamiento tambien tienen datos faltantes. El porcentaje de datos faltantes por columna quedaria de la siguiente manera:\n",
    "\n",
    "| Columna       | % de datos faltantes | \n",
    "|---------------|:--------------------:|\n",
    "| id            | 0%     |\n",
    "| title         | <0,01% |\n",
    "| type          | 0%     |\n",
    "| genres        | 9,77%  |\n",
    "| averageRating | 57,34% |\n",
    "| numVotes      | 57,34% |\n",
    "| releaseYear   | 12,48% |"
   ]
  },
  {
   "cell_type": "markdown",
   "id": "ddc83bf7-1fe4-4e72-bf96-d8a410f73b8b",
   "metadata": {},
   "source": [
    "## **Limpieza de datos**"
   ]
  },
  {
   "cell_type": "markdown",
   "id": "02c95fa3-3443-4a40-bbc5-e021c0f1a522",
   "metadata": {},
   "source": [
    "### **Datos faltantes**"
   ]
  },
  {
   "cell_type": "markdown",
   "id": "b64a3feb-8f9b-4c5d-82c9-012901747924",
   "metadata": {
    "jp-MarkdownHeadingCollapsed": true
   },
   "source": [
    "#### **Columna title**"
   ]
  },
  {
   "cell_type": "markdown",
   "id": "9be7e041-f1c4-4b29-b62f-397d5eadb382",
   "metadata": {},
   "source": [
    "Iniciaremos por averiguar cuales son esos dos registros que no tienen titulo:"
   ]
  },
  {
   "cell_type": "code",
   "execution_count": 16,
   "id": "fe8ebe22-e1a0-4da5-9318-bdb746793d77",
   "metadata": {},
   "outputs": [
    {
     "name": "stdout",
     "output_type": "stream",
     "text": [
      "Empty DataFrame\n",
      "Columns: [id, title, type, genres, averageRating, numVotes, releaseYear]\n",
      "Index: []\n"
     ]
    }
   ],
   "source": [
    "# Filtrar filas donde 'title' es NaN o está vacío\n",
    "missing_title_rows = df[df['title'].isna()]\n",
    "\n",
    "# Mostrar las filas con datos faltantes en 'title'\n",
    "print(missing_title_rows)"
   ]
  },
  {
   "cell_type": "markdown",
   "id": "8ff965f0-a62c-4a05-98e6-3cc2007be48b",
   "metadata": {},
   "source": [
    "<br>\n",
    "Los dos registros en los que falta el titulo son los siguientes:\n",
    "\n",
    "|id|title|type|genres|averageRating|numVotes|releaseYear|\n",
    "|---------------|----|----|----|----|----|----|\n",
    "|tt17042812|NaN|movie|Thriller|NaN|NaN|2010|\n",
    "|tt5774076|NaN|movie|Action, Drama, Mystery|7.2|7.0|2015.0| \n",
    "\n",
    "Ambos registros que no contenia titulo era debido a que el titulo de las peliuclas era \"None\" y era interpretado por Python como un dato nulo, por lo que se procedio a modificarlo quedando de la siguiente manera:\n",
    "\n",
    "|id|title|type|genres|averageRating|numVotes|releaseYear|\n",
    "|---------------|----|----|----|----|----|----|\n",
    "|tt17042812|\"No-ne\"|movie|Thriller|NaN|NaN|2010|\n",
    "|tt5774076|\"No-ne\"|movie|Action, Drama, Mystery|7.2|7.0|2015.0|"
   ]
  },
  {
   "cell_type": "markdown",
   "id": "d6be069c-a352-4b4f-a61a-99ce38e3be6a",
   "metadata": {},
   "source": [
    "### **Columnas genres + averageRating + releaseYear**"
   ]
  },
  {
   "cell_type": "markdown",
   "id": "b2ce5483-4976-4580-bcf9-1bb1a1fd8522",
   "metadata": {},
   "source": [
    "Si hay registros que tienen datos faltas en estas 3 columnas, procederemos a eliminarlos porque son demasiados datos que faltan, por lo que no sirven para el analisis que queremos realizar. Primero filtraremos para ver cuantos registros son:"
   ]
  },
  {
   "cell_type": "code",
   "execution_count": 20,
   "id": "37d60b88-e699-4669-b880-4c90bc3ac034",
   "metadata": {},
   "outputs": [
    {
     "name": "stdout",
     "output_type": "stream",
     "text": [
      "Cantidad total de filas con datos faltantes en 'genres', 'averageRating' y 'releaseYear' al mismo tiempo: 8889\n",
      "Registros con datos faltantes:\n",
      "                  id                                           title      type  \\\n",
      "78184     tt0103493  Millennium: Tribal Wisdom and the Modern World  tvSeries   \n",
      "89821     tt0120922                                 Artes e Ofícios  tvSeries   \n",
      "89977     tt0121158                                        Complica     movie   \n",
      "89981     tt0121172                                     Cuo zai cuo     movie   \n",
      "89982     tt0121173                           The Curly-Headed Dude     movie   \n",
      "...             ...                                             ...       ...   \n",
      "1029318  tt34587446                                    Jävla Karlar  tvSeries   \n",
      "1029323  tt34587487     Untitled Vicky Kaushal/Dinesh Vijan Project     movie   \n",
      "1029431  tt34604810                             Gods Premier League     movie   \n",
      "1029434  tt34604827                                            Fire     movie   \n",
      "1029441  tt34605925                                       Aitraaz 2     movie   \n",
      "\n",
      "        genres  averageRating  numVotes  releaseYear  \n",
      "78184      NaN            NaN       NaN          NaN  \n",
      "89821      NaN            NaN       NaN          NaN  \n",
      "89977      NaN            NaN       NaN          NaN  \n",
      "89981      NaN            NaN       NaN          NaN  \n",
      "89982      NaN            NaN       NaN          NaN  \n",
      "...        ...            ...       ...          ...  \n",
      "1029318    NaN            NaN       NaN          NaN  \n",
      "1029323    NaN            NaN       NaN          NaN  \n",
      "1029431    NaN            NaN       NaN          NaN  \n",
      "1029434    NaN            NaN       NaN          NaN  \n",
      "1029441    NaN            NaN       NaN          NaN  \n",
      "\n",
      "[8889 rows x 7 columns]\n"
     ]
    }
   ],
   "source": [
    "# Filtrar filas donde las 3 columnas tienen datos faltantes al mismo tiempo\n",
    "missing_data_rows = df[df[['genres', 'averageRating', 'releaseYear']].isna().all(axis=1)]\n",
    "\n",
    "# Contar el número total de filas con datos faltantes en estas columnas\n",
    "missing_data_count = missing_data_rows.shape[0]\n",
    "\n",
    "print(f\"Cantidad total de filas con datos faltantes en 'genres', 'averageRating' y 'releaseYear' al mismo tiempo: {missing_data_count}\")\n",
    "print(\"Registros con datos faltantes:\\n\", missing_data_rows)"
   ]
  },
  {
   "cell_type": "markdown",
   "id": "5855844f-4243-4972-8672-fd620ae2cf11",
   "metadata": {},
   "source": [
    "<br>\n",
    "Nos da como resultados un total de 8889 registros (el 0,86% del total de registros). Se realizo una investigacion de estas producciones en la web de IMDb y algunas de ellas se trataban de producciones que todavia se encontraban en etapa de produccion o preproduccion, es decir que todavia no se habian estrenado. Eliminaremos estos registros de la siguiente manera:"
   ]
  },
  {
   "cell_type": "code",
   "execution_count": 22,
   "id": "1959d99c-25fd-4b40-ba5f-5878440df9eb",
   "metadata": {},
   "outputs": [],
   "source": [
    "# Eliminar estas filas del DataFrame original\n",
    "df = df.drop(missing_data_rows.index)"
   ]
  },
  {
   "cell_type": "markdown",
   "id": "a861a29e-c364-4a01-ac9c-c65ee6b4a741",
   "metadata": {
    "jp-MarkdownHeadingCollapsed": true
   },
   "source": [
    "### **Datos repetidos**"
   ]
  },
  {
   "cell_type": "code",
   "execution_count": 24,
   "id": "9a27ca01-16b0-4c9d-82b7-b32545a52edf",
   "metadata": {},
   "outputs": [
    {
     "name": "stdout",
     "output_type": "stream",
     "text": [
      "No se encontraron registros duplicados en la columna 'id'.\n"
     ]
    }
   ],
   "source": [
    "# Contar filas duplicadas en la columna 'id'\n",
    "num_duplicates = df.duplicated(subset='id').sum()\n",
    "\n",
    "if num_duplicates == 0:\n",
    "    print(\"No se encontraron registros duplicados en la columna 'id'.\")\n",
    "else:\n",
    "    print(f\"Se encontraron {num_duplicates} registros duplicados en la columna 'id'.\")\n",
    "    \n",
    "    # Mostrar las filas duplicadas\n",
    "    duplicated_rows = df[df.duplicated(subset='id', keep=False)]\n",
    "    print(\"Filas duplicadas basadas en la columna 'id':\")\n",
    "    print(duplicated_rows)\n",
    "    \n",
    "    # Eliminar duplicados y conservar la primera ocurrencia\n",
    "    df = df.drop_duplicates(subset='id', keep='first')"
   ]
  },
  {
   "cell_type": "markdown",
   "id": "e4f14488-2426-4cd3-94ed-27660da7ca92",
   "metadata": {},
   "source": [
    "<br>\n",
    "No hay registros duplicados en este dataset."
   ]
  },
  {
   "cell_type": "markdown",
   "id": "3ced8c70-ea04-461e-bfd5-0e3c4f93f17e",
   "metadata": {
    "jp-MarkdownHeadingCollapsed": true
   },
   "source": [
    "### **Manejo de outliers en variables numericas**"
   ]
  },
  {
   "cell_type": "code",
   "execution_count": 27,
   "id": "4199ee30-0f57-40f2-a6e0-1c7cdbe1a642",
   "metadata": {},
   "outputs": [
    {
     "data": {
      "image/png": "[encoded data removed]",
      "text/plain": [
       "<Figure size 800x1200 with 3 Axes>"
      ]
     },
     "metadata": {},
     "output_type": "display_data"
    }
   ],
   "source": [
    "# Configurar el estilo de los gráficos\n",
    "sns.set(style=\"whitegrid\")\n",
    "\n",
    "# Crear un subplot para los 3 boxplots (en vertical)\n",
    "fig, axes = plt.subplots(3, 1, figsize=(8, 12))\n",
    "\n",
    "# Boxplot para 'averageRating' (horizontal)\n",
    "sns.boxplot(x=df['averageRating'], ax=axes[0], color='skyblue')\n",
    "axes[0].set_title('Boxplot de averageRating')\n",
    "axes[0].set_xlabel('averageRating')\n",
    "\n",
    "# Boxplot para 'numVotes' (horizontal)\n",
    "sns.boxplot(x=df['numVotes'], ax=axes[1], color='lightgreen')\n",
    "axes[1].set_title('Boxplot de numVotes')\n",
    "axes[1].set_xlabel('numVotes')\n",
    "\n",
    "# Boxplot para 'releaseYear' (horizontal)\n",
    "sns.boxplot(x=df['releaseYear'], ax=axes[2], color='lightcoral')\n",
    "axes[2].set_title('Boxplot de releaseYear')\n",
    "axes[2].set_xlabel('releaseYear')\n",
    "\n",
    "# Ajustar los espacios entre los subplots\n",
    "plt.tight_layout()\n",
    "\n",
    "# Mostrar los gráficos\n",
    "plt.show()"
   ]
  },
  {
   "cell_type": "markdown",
   "id": "a93ed3c2-e9d7-49b6-84a4-5d08bfecc5fb",
   "metadata": {},
   "source": [
    "<br>\n",
    "Teniendo en cuenta el tipo de variables numericas y de analisis que queremos realizar, no considero que los valores por fuera del rango de los bigotes del boxplot puedan ser tomados como outliers, por lo que los datos se conservaran."
   ]
  },
  {
   "cell_type": "markdown",
   "id": "7e7fa44f-d940-4946-8a33-92b2c95c991f",
   "metadata": {},
   "source": [
    "### **Renombrando columnas de camelcase a snakecase**"
   ]
  },
  {
   "cell_type": "markdown",
   "id": "7233d5e5-7bc0-4667-935c-5f789ac22a2e",
   "metadata": {},
   "source": [
    "<br>\n",
    "Se renombraran algunos de los nomnbres de las columnas para que se adecuen al estilo de convencion snakecase porque es clara, estándar y ampliamente utilizada en SQL."
   ]
  },
  {
   "cell_type": "code",
   "execution_count": null,
   "id": "8bb847b0-0bc7-4d4e-bde5-b4c363850564",
   "metadata": {},
   "outputs": [],
   "source": [
    "# Renombrar columnas específicas\n",
    "df = df.rename(columns={\n",
    "    'averageRating': 'average_rating',\n",
    "    'numVotes': 'num_votes',\n",
    "    'releaseYear': 'release_year'\n",
    "})"
   ]
  },
  {
   "cell_type": "markdown",
   "id": "19ec8f4c-a315-4278-ac90-f4864e0a30ff",
   "metadata": {},
   "source": [
    "### **Division de la columna genero**"
   ]
  },
  {
   "cell_type": "markdown",
   "id": "34d89a7d-9845-4b01-83ff-570e317db829",
   "metadata": {},
   "source": [
    "La columna genres cuenta con hasta tres tipos de generos distintos en un mismo campo, si se lo dejara asi no podria ser utilizada para el analisis, por lo que se separa cada genero en una columna. En caso de que una produccion cuente con menos de 3 generos, los campos quedaran vacios. Por ejemplo, un registro que cuenta con 2 generos solamente quedaria de la siguiente manera: \n",
    "\n",
    "|genre1|genre2|genre3|\n",
    "|-----|-----|-----|\n",
    "|Drama|Action|None|\n",
    "\n",
    "Los campos que no contengan genero tendran valores NaN, que es el valor nulo estandar de Pandas."
   ]
  },
  {
   "cell_type": "code",
   "execution_count": null,
   "id": "9d3d300e-d631-421e-88e2-9193e6917b44",
   "metadata": {
    "scrolled": true
   },
   "outputs": [],
   "source": [
    "# Dividir la columna 'género' en varias columnas\n",
    "genres_split = df['genres'].str.split(',', expand=True)\n",
    "\n",
    "# Renombrar las columnas resultantes\n",
    "genres_split.columns = [f'genre{i+1}' for i in range(genres_split.shape[1])]\n",
    "\n",
    "# Concatenar las nuevas columnas con el dataframe original\n",
    "df = pd.concat([df, genres_split], axis=1)\n",
    "\n",
    "# Eliminar la columna 'genres' original\n",
    "df = df.drop(columns=['genres'])"
   ]
  },
  {
   "cell_type": "markdown",
   "id": "625dbab3-b83f-4db5-8f13-c9983b94242a",
   "metadata": {},
   "source": [
    "### **Errores tipográficos en variables categóricas**"
   ]
  },
  {
   "cell_type": "markdown",
   "id": "c72cd764-8854-4d83-80bc-f951359021e8",
   "metadata": {},
   "source": []
  },
  {
   "cell_type": "markdown",
   "id": "fe25fc25-da16-4d41-9732-68acecef1a5d",
   "metadata": {},
   "source": [
    "### **Transformacion de columnas num_votes y year a tipo entero**"
   ]
  },
  {
   "cell_type": "markdown",
   "id": "d4c97f66-617a-4dae-85af-a88e75980edd",
   "metadata": {},
   "source": [
    "Cuando Pandas hizo la transformacion del archivo csv a dataframe, las columnas num_votes y year contenian campos vacios por lo que Pandas los tomo como valores NaN que son de tipo flotante (float). Si una columna contiene números enteros y al menos un valor faltante, Pandas convertirá toda la columna al tipo float64, ya que int no puede representar valores faltantes. Por lo que volveremos a convertir en entero estas columnas para que el tipo de dato coincida con la base de datos que tendremos creada en SQL."
   ]
  },
  {
   "cell_type": "code",
   "execution_count": null,
   "id": "f30e2f17-4944-47e9-8e16-96b17114c061",
   "metadata": {},
   "outputs": [],
   "source": [
    "# Mantener las columnas con números enteros como enteros (excepto la columna average_rating que es flotante)\n",
    "for column in df.select_dtypes(include=['float64']).columns:\n",
    "    if column != \"average_rating\":\n",
    "        df[column] = df[column].fillna(0).astype('int')"
   ]
  }
 ],
 "metadata": {
  "kernelspec": {
   "display_name": "Python 3 (ipykernel)",
   "language": "python",
   "name": "python3"
  },
  "language_info": {
   "codemirror_mode": {
    "name": "ipython",
    "version": 3
   },
   "file_extension": ".py",
   "mimetype": "text/x-python",
   "name": "python",
   "nbconvert_exporter": "python",
   "pygments_lexer": "ipython3",
   "version": "3.12.7"
  }
 },
 "nbformat": 4,
 "nbformat_minor": 5
}
